{
 "cells": [
  {
   "cell_type": "markdown",
   "metadata": {},
   "source": [
    "## Exploratory data analysis\n",
    "### In this section\n",
    "\n",
    "- downlad sesmic data and models\n",
    "- horisonatal projections of wells and seismic cube \n",
    "- visualize seismic slices \n",
    "- process las files adding well coordinates \n",
    "- generate training data - project wells on vertical seismic slices \n",
    "- visualize training data: seismic slices, carotage masks (used in loss funstion), target carotage data "
   ]
  },
  {
   "cell_type": "markdown",
   "metadata": {},
   "source": [
    "### Download the dataset"
   ]
  },
  {
   "cell_type": "code",
   "execution_count": null,
   "metadata": {
    "scrolled": false
   },
   "outputs": [],
   "source": [
    "! sh ../src/download_data.sh"
   ]
  },
  {
   "cell_type": "code",
   "execution_count": null,
   "metadata": {
    "scrolled": true
   },
   "outputs": [],
   "source": [
    "# reload modules automatically:\n",
    "%load_ext autoreload\n",
    "%autoreload 2\n",
    "\n",
    "import warnings\n",
    "warnings.filterwarnings(action='ignore')\n",
    "\n",
    "# make user code available:\n",
    "import sys\n",
    "from pathlib import Path\n",
    "module_path = Path('.').absolute().parent\n",
    "if str(module_path) not in sys.path:\n",
    "    sys.path.insert(0, str(module_path / 'src'))\n",
    "\n",
    "import numpy as np\n",
    "import pandas as pd\n",
    "import pickle\n",
    "from pathlib import Path\n",
    "import cv2\n",
    "import matplotlib.pyplot as plt\n",
    "import matplotlib.colors as colors\n",
    "from mpl_toolkits.axes_grid1.inset_locator import inset_axes\n",
    "\n",
    "from data_types import Point\n",
    "from utils import projection\n",
    "from create_dataset import (\n",
    "    generate_logs, gen_tgt_mask,\n",
    "    project_wells_onto_slice,\n",
    "    create_slice_well_list,\n",
    "    process_single_wells,\n",
    "    dump_normalization_values,\n",
    "    slice_crossline, slice_inline,\n",
    "    preprocess\n",
    ")\n",
    "from const import (\n",
    "    log_dir, # processed well logs\n",
    "    slices_dir, # path to generated training data\n",
    "    slice_coord_path, # dictionary with ilines, xlines coordinates\n",
    "    trace_coords, # coordinates of seismic traces\n",
    "    ilines, xlines,\n",
    "    nsamples, dt, # seismic cube parameters\n",
    "    wells, wellheads, # well names and well heads coordinates\n",
    "    norm_dict_path, # narmalization dictionary for neural net\n",
    "    well_width, # width of vertical well prjection, in seismic traces\n",
    "    carotage_types,\n",
    "    model_dir, # path to models\n",
    ")\n",
    "from predict import (\n",
    "    predict_on_fold,\n",
    "    eval_fold,\n",
    "    process_all_folds,\n",
    "    average_prediction,\n",
    "    cv_dataset\n",
    ")"
   ]
  },
  {
   "cell_type": "code",
   "execution_count": null,
   "metadata": {},
   "outputs": [],
   "source": [
    "# seismic cube parameters\n",
    "print(f'# samples={nsamples}, dt={dt} msec')\n",
    "print(f'min iline={min(ilines)}, max iline={max(ilines)}')\n",
    "print(f'min xline={min(xlines)}, max xline={max(xlines)}')"
   ]
  },
  {
   "cell_type": "markdown",
   "metadata": {},
   "source": [
    "### Horisonatal projection of wells and seismic traces"
   ]
  },
  {
   "cell_type": "code",
   "execution_count": null,
   "metadata": {},
   "outputs": [],
   "source": [
    "# read ilines and xlines coordinates\n",
    "with open(slice_coord_path, 'rb') as f:\n",
    "    slice_coord_dict = pickle.load(f)"
   ]
  },
  {
   "cell_type": "code",
   "execution_count": null,
   "metadata": {
    "scrolled": false
   },
   "outputs": [],
   "source": [
    "xline = 387\n",
    "xline_coords = slice_coord_dict['xline'][xline]\n",
    "\n",
    "fig = plt.figure(figsize=(10, 10))\n",
    "plt.scatter(trace_coords[::1, 0], trace_coords[::1, 1], marker='.')\n",
    "plt.scatter(xline_coords[:, 0], xline_coords[:, 1], marker='.', s=20, c='y')\n",
    "plt.scatter(wellheads['X-Coord'], wellheads['Y-Coord'], marker='o', s=100, c='k')\n",
    "for id_, (x_, y_) in wellheads.iterrows():\n",
    "    plt.annotate(id_, xy=[x_, y_], xytext=(10, 3), textcoords='offset points', c='w', fontsize=16)\n",
    "plt.legend(['Seismic traces', f'xline {xline}', 'Wells'], loc='lower right')\n",
    "plt.title(f'Horisonatal projection of well heads')\n",
    "plt.xlabel('X, m', fontsize=12)\n",
    "plt.ylabel('Y, m', fontsize=12)\n",
    "plt.show()"
   ]
  },
  {
   "cell_type": "markdown",
   "metadata": {},
   "source": [
    "#### Well F03-4 projection on inline 730"
   ]
  },
  {
   "cell_type": "code",
   "execution_count": null,
   "metadata": {},
   "outputs": [],
   "source": [
    "well_name = 'F03-4'\n",
    "slice_type = 'iline'\n",
    "slice_num = 730\n",
    "\n",
    "slice_coords = slice_coord_dict[slice_type][slice_num]\n",
    "\n",
    "ptw = Point(*wellheads.loc[well_name, ['X-Coord', 'Y-Coord']])\n",
    "pt1 = Point(*slice_coords[0])\n",
    "pt2 = Point(*slice_coords[-1])\n",
    "ptp = projection(pt1, pt2, ptw)\n",
    "\n",
    "fig = plt.figure(figsize=(10, 10))\n",
    "plt.scatter(trace_coords[::1, 0], trace_coords[::1, 1], marker='.')\n",
    "plt.scatter(slice_coords[:, 0], slice_coords[:, 1], marker='.', s=20, c='y')\n",
    "plt.scatter(*pt1, marker='o', s=100, c='r')\n",
    "plt.scatter(*pt2, marker='o', s=100, c='g')\n",
    "plt.scatter(*ptw, marker='o', s=100, c='k')\n",
    "plt.scatter(*ptp, marker='o', s=100, c='c')\n",
    "plt.legend(['seismic traces', f'{slice_type} {slice_num}', 'start', 'end', f'head of {well_name}', f'{well_name} projection on {slice_type}'], loc='lower right')\n",
    "plt.title(f'Horisonatal projection of well {well_name} on {slice_type} {slice_num}')\n",
    "plt.xlabel('X, m', fontsize=12)\n",
    "plt.ylabel('Y, m', fontsize=12)\n",
    "plt.show()"
   ]
  },
  {
   "cell_type": "markdown",
   "metadata": {},
   "source": [
    "### Visualize inline"
   ]
  },
  {
   "cell_type": "code",
   "execution_count": null,
   "metadata": {},
   "outputs": [],
   "source": [
    "iline = 730\n",
    "seismic_slice = slice_inline(iline)\n",
    "\n",
    "fig = plt.figure(figsize=(10, 15))\n",
    "plt.imshow(seismic_slice, cmap = 'seismic', aspect = 'auto')\n",
    "plt.axis('off')\n",
    "plt.title(f'Inline {iline}')\n",
    "plt.show()"
   ]
  },
  {
   "cell_type": "markdown",
   "metadata": {},
   "source": [
    "### Visualize crossline"
   ]
  },
  {
   "cell_type": "code",
   "execution_count": null,
   "metadata": {},
   "outputs": [],
   "source": [
    "xline = 400\n",
    "seismic_slice = slice_crossline(xline)\n",
    "\n",
    "fig = plt.figure(figsize=(10, 15))\n",
    "plt.imshow(seismic_slice, cmap = 'seismic', aspect = 'auto')\n",
    "plt.axis('off')\n",
    "plt.title(f'Crossline {xline}')\n",
    "plt.show()"
   ]
  },
  {
   "cell_type": "markdown",
   "metadata": {},
   "source": [
    "### Preprocess and extend log files. Generate training data."
   ]
  },
  {
   "cell_type": "code",
   "execution_count": null,
   "metadata": {},
   "outputs": [],
   "source": [
    "preprocess()"
   ]
  },
  {
   "cell_type": "markdown",
   "metadata": {},
   "source": [
    "### Plot carotage data"
   ]
  },
  {
   "cell_type": "code",
   "execution_count": null,
   "metadata": {},
   "outputs": [],
   "source": [
    "well_name = 'F03-4'\n",
    "las_df = pd.read_csv(log_dir / (well_name + '.csv'))"
   ]
  },
  {
   "cell_type": "code",
   "execution_count": null,
   "metadata": {},
   "outputs": [],
   "source": [
    "fontsize = 14\n",
    "fig, axes = plt.subplots(1, 3, figsize=(10, 20), sharey=True)\n",
    "las_df.plot(y='t', x='Sonic', ax=axes[0], legend=None, fontsize=fontsize)\n",
    "las_df.plot(y='t', x='Gamma_Ray', ax=axes[1], legend=None, fontsize=fontsize)\n",
    "las_df.plot(y='t', x='Porosity', ax=axes[2], legend=None, fontsize=fontsize)\n",
    "axes[0].set_ylabel('ms', fontsize=fontsize)\n",
    "axes[0].grid('on')\n",
    "axes[1].grid('on')\n",
    "axes[2].grid('on')\n",
    "plt.gca().invert_yaxis()"
   ]
  },
  {
   "cell_type": "markdown",
   "metadata": {},
   "source": [
    "### Project single well onto seismic slice"
   ]
  },
  {
   "cell_type": "code",
   "execution_count": null,
   "metadata": {},
   "outputs": [],
   "source": [
    "well_name = 'F03-4'\n",
    "iline = 730\n",
    "iline_coords = slice_coord_dict['iline'][iline]\n",
    "las_df = pd.read_csv(log_dir / (well_name + '.csv'))\n",
    "vertical_grid = np.arange(nsamples) * dt\n",
    "target, mask = gen_tgt_mask(iline_coords, vertical_grid, las_df, carotage_types=['P_Impedance'], well_width=20)"
   ]
  },
  {
   "cell_type": "code",
   "execution_count": null,
   "metadata": {
    "scrolled": false
   },
   "outputs": [],
   "source": [
    "fig, (ax1, ax2) = plt.subplots(1, 2, figsize=(15, 30), sharey=True)\n",
    "extent = [min(xlines), max(xlines), nsamples * dt - 1, 0]\n",
    "ax1.imshow(mask[..., 0], cmap='Greys_r', extent=extent)\n",
    "ax1.set_title('Mask')\n",
    "ax1.set_ylabel('ms', fontsize = '10')\n",
    "ax1.set_xlabel('xline', fontsize = '10')\n",
    "ax2.imshow(target[..., 0], cmap='Spectral_r', extent=extent)\n",
    "ax2.set_title('P_Impedance(Kg/m2s)')\n",
    "ax2.set_xlabel('xline', fontsize = '10')\n",
    "plt.tight_layout()\n",
    "plt.show()"
   ]
  },
  {
   "cell_type": "markdown",
   "metadata": {},
   "source": [
    "### Project multiple wells"
   ]
  },
  {
   "cell_type": "code",
   "execution_count": null,
   "metadata": {},
   "outputs": [],
   "source": [
    "well_list = ['F02-1', 'F03-2']\n",
    "xline = 740\n",
    "carotage_list = ['Gamma_Ray', 'P_Impedance']\n",
    "target, mask = project_wells_onto_slice(xline, 'xline', well_list, carotage_types=carotage_types, well_width=20, verbose=True)"
   ]
  },
  {
   "cell_type": "markdown",
   "metadata": {},
   "source": [
    "### Vizualise mask and carotage target"
   ]
  },
  {
   "cell_type": "code",
   "execution_count": null,
   "metadata": {},
   "outputs": [],
   "source": [
    "extent = [min(ilines), max(ilines), nsamples * dt - 1, 0]\n",
    "carotage = 'Gamma_Ray'\n",
    "index = carotage_list.index(carotage)\n",
    "\n",
    "fontsize = 14\n",
    "fig, (ax1, ax2) = plt.subplots(1, 2, figsize=(15, 30), sharey=True)\n",
    "ax1.imshow(mask[..., index], cmap='Greys_r', extent=extent)\n",
    "ax1.set_title('Mask')\n",
    "ax1.set_ylabel('ms', fontsize=fontsize)\n",
    "ax1.set_xlabel('iline', fontsize=fontsize)\n",
    "ax2.imshow(target[..., index], cmap='Spectral_r', extent=extent)\n",
    "ax2.set_title(f'{carotage} carotage')\n",
    "ax2.set_xlabel('iline', fontsize=fontsize)\n",
    "plt.tight_layout()\n",
    "plt.show()"
   ]
  },
  {
   "cell_type": "code",
   "execution_count": null,
   "metadata": {},
   "outputs": [],
   "source": [
    "carotage = 'P_Impedance'\n",
    "index = carotage_list.index(carotage)\n",
    "\n",
    "fontsize = 14\n",
    "fig, (ax1, ax2) = plt.subplots(1, 2, figsize=(15, 30), sharey=True)\n",
    "ax1.imshow(mask[..., index], cmap='Greys_r', extent=extent)\n",
    "ax1.set_title('Mask')\n",
    "ax1.set_ylabel('ms', fontsize=fontsize)\n",
    "ax2.set_xlabel('iline', fontsize=fontsize)\n",
    "ax2.imshow(target[..., index], cmap='Spectral_r', extent=extent)\n",
    "ax2.set_title(f'{carotage} carotage')\n",
    "ax2.set_xlabel('iline', fontsize=fontsize)\n",
    "plt.tight_layout()\n",
    "plt.show()"
   ]
  },
  {
   "cell_type": "markdown",
   "metadata": {},
   "source": [
    "### Visualize training data"
   ]
  },
  {
   "cell_type": "code",
   "execution_count": null,
   "metadata": {
    "scrolled": false
   },
   "outputs": [],
   "source": [
    "fl = 'iline_732_F03-2.pkl'\n",
    "extent = [min(ilines), max(ilines), nsamples * dt - 1, 0] if 'xline' in fl else [min(xlines), max(xlines), nsamples * dt - 1, 0]\n",
    "with open(slices_dir / fl, 'rb') as f:\n",
    "    slice_data = pickle.load(f)\n",
    "\n",
    "fontsize = 14\n",
    "carotage_type = 'P_Impedance'\n",
    "seismic_ver = slice_data['seismic']\n",
    "mask_ver = slice_data['projections'][carotage_type]['mask']\n",
    "target_ver = slice_data['projections'][carotage_type]['target']\n",
    "\n",
    "fig, (ax1, ax2, ax3) = plt.subplots(1, 3, figsize=(16, 14), sharey=True)\n",
    "ax1.imshow(seismic_ver, cmap='seismic', extent=extent)\n",
    "ax1.set_title('Seismogram', fontsize=fontsize)\n",
    "ax1.set_ylabel('ms', fontsize=fontsize)\n",
    "ax1.set_xlabel('iline' if 'xline' in fl else 'xline', fontsize=fontsize)\n",
    "\n",
    "ax2.imshow(mask_ver, cmap='Greys_r', extent=extent)\n",
    "ax2.set_xlabel('iline' if 'xline' in fl else 'xline', fontsize=fontsize)\n",
    "ax2.set_title('Mask', fontsize=fontsize)\n",
    "\n",
    "ax3.imshow(target_ver, cmap='Spectral_r', extent=extent)\n",
    "ax3.set_xlabel('iline' if 'xline' in fl else 'xline', fontsize=fontsize)\n",
    "ax3.set_title(f'{carotage_type} carotage', fontsize=fontsize)\n",
    "plt.tight_layout()\n",
    "plt.show()"
   ]
  },
  {
   "cell_type": "code",
   "execution_count": null,
   "metadata": {},
   "outputs": [],
   "source": [
    "fl = 'xline_1006_F03-4.pkl'\n",
    "extent = [min(ilines), max(ilines), nsamples * dt - 1, 0] if 'xline' in fl else [min(xlines), max(xlines), nsamples * dt - 1, 0]\n",
    "with open(slices_dir / fl, 'rb') as f:\n",
    "    slice_data = pickle.load(f)\n",
    "\n",
    "fontsize = 14\n",
    "carotage_type = 'Gamma_Ray'\n",
    "seismic_ver = slice_data['seismic']\n",
    "mask_ver = slice_data['projections'][carotage_type]['mask']\n",
    "target_ver = slice_data['projections'][carotage_type]['target']\n",
    "\n",
    "fig, (ax1, ax2, ax3) = plt.subplots(1, 3, figsize=(16, 14), sharey=True)\n",
    "ax1.imshow(seismic_ver, cmap='seismic', extent=extent)\n",
    "ax1.set_title('Seismogram', fontsize=fontsize)\n",
    "ax1.set_ylabel('ms', fontsize=fontsize)\n",
    "ax1.set_xlabel('iline' if 'xline' in fl else 'xline', fontsize=fontsize)\n",
    "\n",
    "ax2.imshow(mask_ver, cmap='Greys_r', extent=extent)\n",
    "ax2.set_xlabel('iline' if 'xline' in fl else 'xline', fontsize=fontsize)\n",
    "ax2.set_title('Mask', fontsize=fontsize)\n",
    "\n",
    "im = ax3.imshow(target_ver, cmap='Spectral_r', extent=extent)\n",
    "ax3.set_xlabel('iline' if 'xline' in fl else 'xline', fontsize=fontsize)\n",
    "ax3.set_title(f'{carotage_type}', fontsize=fontsize)\n",
    "\n",
    "axins = inset_axes(ax3, width='5%',   height='30%', loc='upper left')\n",
    "fig.colorbar(im, cax=axins)\n",
    "\n",
    "plt.tight_layout()\n",
    "plt.show()"
   ]
  },
  {
   "cell_type": "markdown",
   "metadata": {},
   "source": [
    "## Evaluation\n",
    "\n",
    "### In this section:  \n",
    "* cross-validate Gamma Ray carotage models on 4 wells from the Netherlands Offshore F3 Block open project, https://terranubis.com/datainfo/Netherlands-Offshore-F3-Block-Complete  \n",
    "* Dictionary `weights` provides list of 4 models ordered according to test folds. Every test fold associated with just one well -  F02-1, F03-2, F03-4, F06-1. Each of the wells is projected onto 42 nearest seismic slices (2 inlines/crosslines x 21 slices) \n",
    "* average well carotage across multiple slices and calculate statistics  \n",
    "* visualize predictions: carotage for a single well and carotage for a whole seismic slice   "
   ]
  },
  {
   "cell_type": "code",
   "execution_count": null,
   "metadata": {},
   "outputs": [],
   "source": [
    "# trained models in the order of cv test folds\n",
    "weights = {\n",
    "    'Gamma_Ray': [\n",
    "        'uResNet34.Gamma_Ray.sz480x512.smtd_0.14-0.78.hdf5',\n",
    "        'uResNet34.Gamma_Ray.sz480x512.smtd_1.11-0.37.hdf5',\n",
    "        'uResNet34.Gamma_Ray.sz480x512.smtd_2.07-0.65.hdf5',\n",
    "        'uResNet34.Gamma_Ray.sz480x512.smtd_3.42-0.67.hdf5'\n",
    "    ],\n",
    "}"
   ]
  },
  {
   "cell_type": "markdown",
   "metadata": {},
   "source": [
    "### Evaluate models for Gamma Ray carotage"
   ]
  },
  {
   "cell_type": "code",
   "execution_count": null,
   "metadata": {
    "scrolled": true
   },
   "outputs": [],
   "source": [
    "carotage = 'Gamma_Ray'\n",
    "eval_dict = process_all_folds(weights, carotage)"
   ]
  },
  {
   "cell_type": "markdown",
   "metadata": {},
   "source": [
    "#### Average predicted carotage for a well across all slices associated with this well"
   ]
  },
  {
   "cell_type": "code",
   "execution_count": null,
   "metadata": {},
   "outputs": [],
   "source": [
    "mean_eval_dict = average_prediction(eval_dict)\n",
    "all_correlations = [v['corr'] for v in mean_eval_dict.values()]\n",
    "print(f'\\nOverall correlation: {np.mean(all_correlations):0.2f}')"
   ]
  },
  {
   "cell_type": "markdown",
   "metadata": {},
   "source": [
    "### Visualize"
   ]
  },
  {
   "cell_type": "markdown",
   "metadata": {},
   "source": [
    "#### Prediction distribution across all slices"
   ]
  },
  {
   "cell_type": "code",
   "execution_count": null,
   "metadata": {},
   "outputs": [],
   "source": [
    "correlations = [v['corr'] for v in eval_dict.values()]\n",
    "fig = plt.figure(figsize=(10, 8))\n",
    "plt.hist(correlations, bins=20, edgecolor='black', linewidth=1.0)\n",
    "plt.grid('on')\n",
    "plt.title('Correlation distribution across all slices')\n",
    "plt.show()"
   ]
  },
  {
   "cell_type": "code",
   "execution_count": null,
   "metadata": {},
   "outputs": [],
   "source": [
    "fontsize = 12\n",
    "fig, ax = plt.subplots(1, 4, figsize=(14, 14), sharey=True)\n",
    "\n",
    "for i, (w, ax_) in enumerate(zip(wells, ax.flatten())):\n",
    "    t = mean_eval_dict[w]['t']\n",
    "    true_carotage = mean_eval_dict[w]['true_carotage']\n",
    "    pred_carotage = mean_eval_dict[w]['pred_carotage']\n",
    "    corr = mean_eval_dict[w]['corr']\n",
    "    ax_.plot(true_carotage, t, pred_carotage, t)\n",
    "    ax_.set_title(f'{w}', fontsize=fontsize)\n",
    "    if i == 0:\n",
    "        ax_.set_ylabel('ms', fontsize=fontsize)\n",
    "        ax_.legend([f'Actual {carotage}', 'Predicted'], fontsize=fontsize)\n",
    "    ax_.text(0.65, 0.02, f'corr={corr:0.2f}', transform=ax_.transAxes, fontsize=fontsize)\n",
    "    ax_.grid(True)\n",
    "ax_.invert_yaxis()    \n",
    "    \n",
    "plt.tight_layout()\n",
    "plt.show()"
   ]
  },
  {
   "cell_type": "markdown",
   "metadata": {},
   "source": [
    "### Visualize predicted Gamma Ray carotage for a whole seismic slice  \n",
    "#### well F02-1 is associated with test fold 0 and projected onto 42 nearest seismic slices; one of them - inline 363"
   ]
  },
  {
   "cell_type": "code",
   "execution_count": null,
   "metadata": {
    "scrolled": true
   },
   "outputs": [],
   "source": [
    "fold = 0\n",
    "slice_list = cv_dataset[fold]['test']\n",
    "carotage = 'Gamma_Ray'\n",
    "data = predict_on_fold(slice_list, carotage, model_dir / weights[carotage][fold], verbose=False)"
   ]
  },
  {
   "cell_type": "code",
   "execution_count": null,
   "metadata": {},
   "outputs": [],
   "source": [
    "i_d = 'iline_363_F02-1'\n",
    "\n",
    "color_norm = colors.Normalize(vmin=data[i_d]['y_pred'].min(), vmax=data[i_d]['y_pred'].max())\n",
    "extent = [min(ilines), max(ilines), nsamples * dt - 1, 0] if 'xline' in i_d else [min(xlines), max(xlines), nsamples * dt - 1, 0]\n",
    "\n",
    "fig, (ax1, ax2, ax3) = plt.subplots(1, 3, figsize=(12, 8), sharey=True)\n",
    "ax1.imshow(data[i_d]['seism'], cmap='seismic', extent=extent)\n",
    "ax1.set_title('Seismic slice')\n",
    "ax1.set_ylabel('ms', fontsize=fontsize)\n",
    "ax1.set_xlabel('iline' if 'xline' in i_d else 'xline', fontsize=fontsize)\n",
    "\n",
    "ax2.imshow(data[i_d]['y_true'], cmap='Greys_r', extent=extent, norm=color_norm)\n",
    "ax2.set_title(f'Actual {carotage} slice')\n",
    "ax2.set_xlabel('iline' if 'xline' in i_d else 'xline', fontsize=fontsize)\n",
    "\n",
    "ax3.imshow(data[i_d]['y_pred'], cmap='Greys_r', extent=extent, norm=color_norm)\n",
    "ax3.set_title(f'Prediced {carotage} slice')\n",
    "ax3.set_xlabel('iline' if 'xline' in i_d else 'xline', fontsize=fontsize)\n",
    "\n",
    "plt.tight_layout()\n",
    "plt.suptitle(f'{{}} {{}}, well {{}}'.format(*i_d.split('_')), fontsize=14, y=0.99)\n",
    "plt.show()"
   ]
  }
 ],
 "metadata": {
  "kernelspec": {
   "display_name": "Python 3",
   "language": "python",
   "name": "python3"
  },
  "language_info": {
   "codemirror_mode": {
    "name": "ipython",
    "version": 3
   },
   "file_extension": ".py",
   "mimetype": "text/x-python",
   "name": "python",
   "nbconvert_exporter": "python",
   "pygments_lexer": "ipython3",
   "version": "3.7.5"
  }
 },
 "nbformat": 4,
 "nbformat_minor": 2
}
